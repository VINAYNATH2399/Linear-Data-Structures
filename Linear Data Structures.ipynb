{
 "cells": [
  {
   "cell_type": "markdown",
   "id": "aebe283d",
   "metadata": {},
   "source": [
    "Q1. Write a program to find all pairs of an integer array whose sum is equal to a given number?"
   ]
  },
  {
   "cell_type": "code",
   "execution_count": 1,
   "id": "f9145e4e",
   "metadata": {},
   "outputs": [
    {
     "name": "stdout",
     "output_type": "stream",
     "text": [
      "0 5\n",
      "1 4\n",
      "2 3\n"
     ]
    }
   ],
   "source": [
    "# defining funct\n",
    "def printpairs(arr,n,sum):\n",
    "    for i in range(0,n):\n",
    "        for j in range(i+1,n): # n is number of elements in the array\n",
    "            if arr[i] + arr[j] == sum:\n",
    "                print(arr[i],arr[j])\n",
    "                \n",
    "# Driver code\n",
    "arr = [0,1,2,3,4,5,6,7,8,9]\n",
    "n = len(arr)\n",
    "sum = 5\n",
    "printpairs(arr,n,sum)                "
   ]
  },
  {
   "cell_type": "markdown",
   "id": "20eaba79",
   "metadata": {},
   "source": [
    "Q2. Write a program to reverse an array in place? In place means you cannot create a new array. You have to update the original array."
   ]
  },
  {
   "cell_type": "code",
   "execution_count": 2,
   "id": "56f83c88",
   "metadata": {},
   "outputs": [
    {
     "name": "stdout",
     "output_type": "stream",
     "text": [
      "[1, 2, 3, 4, 5]\n",
      "The reversearray is:\n",
      "[5, 4, 3, 2, 1]\n"
     ]
    }
   ],
   "source": [
    "def reversearray(arr,start,end):\n",
    "    while start<end:\n",
    "        A[start],A[end]= A[end],A[start]\n",
    "        start+=1\n",
    "        end-=1   \n",
    "# Driver Code        \n",
    "A = [1,2,3,4,5]\n",
    "print(A)\n",
    "print(\"The reversearray is:\")\n",
    "reversearray(A,0,4)\n",
    "print(A)"
   ]
  },
  {
   "cell_type": "markdown",
   "id": "4c014ca6",
   "metadata": {},
   "source": [
    "Q3. Write a program to check if two strings are a rotation of each other?"
   ]
  },
  {
   "cell_type": "code",
   "execution_count": 3,
   "id": "9b63d395",
   "metadata": {},
   "outputs": [],
   "source": [
    "def arestringrotation(str1,str2):\n",
    "    size1=len(str1)\n",
    "    size2=len(str2)\n",
    "    temp=\"\"\n",
    "    if size1!=size2:\n",
    "        return 0\n",
    "    else:\n",
    "        return 1\n",
    "    \n",
    "    temp=str1+str2\n",
    "    if (temp.count(str2)>0):\n",
    "        return 1\n",
    "    else:\n",
    "        return 0    "
   ]
  },
  {
   "cell_type": "code",
   "execution_count": 4,
   "id": "2af47a4a",
   "metadata": {},
   "outputs": [
    {
     "name": "stdout",
     "output_type": "stream",
     "text": [
      "Strings are rotation to each other\n"
     ]
    }
   ],
   "source": [
    "str1 = \"ABCD\"\n",
    "str2 = \"DCBA\"\n",
    "if arestringrotation(str1,str2):\n",
    "    print(\"Strings are rotation to each other\")\n",
    "else:\n",
    "    print(\"String are not rotation to each other\")"
   ]
  },
  {
   "cell_type": "markdown",
   "id": "b2a22886",
   "metadata": {},
   "source": [
    "Q4. Write a program to print the first non-repeated character from a string?"
   ]
  },
  {
   "cell_type": "code",
   "execution_count": 5,
   "id": "249b0315",
   "metadata": {
    "scrolled": true
   },
   "outputs": [
    {
     "name": "stdout",
     "output_type": "stream",
     "text": [
      "1\n"
     ]
    }
   ],
   "source": [
    "def nonrepeated(string):\n",
    "    freq={}\n",
    "    for x in string:\n",
    "        freq[x]=freq.get(x,0) + 1\n",
    "    for i in string:\n",
    "        if freq[i]==1:\n",
    "                \n",
    "            return 1\n",
    "    return -1\n",
    "str =  nonrepeated(\"asdfgasdf\")    \n",
    "print(str)"
   ]
  },
  {
   "cell_type": "markdown",
   "id": "9e5f2602",
   "metadata": {},
   "source": [
    "Q5. Read about the Tower of Hanoi algorithm. Write a program to implement it."
   ]
  },
  {
   "cell_type": "markdown",
   "id": "bc800e24",
   "metadata": {},
   "source": [
    "Tower of Hanoi is a mathematical puzzle where we have three rods and n disks. The objective of the puzzle is to move the entire stack to another rod, obeying the following simple rules:\n",
    "\n",
    "1.Only one disk can be moved at a time.\n",
    "\n",
    "2.Each move consists of taking the upper disk from one of the stacks and placing it on top of another stack i.e. a disk can only be moved if it is the uppermost disk on a stack.\n",
    "\n",
    "3.No disk may be placed on top of a smaller disk."
   ]
  },
  {
   "cell_type": "code",
   "execution_count": 6,
   "id": "3cb776e4",
   "metadata": {},
   "outputs": [
    {
     "name": "stdout",
     "output_type": "stream",
     "text": [
      "Move disk 1 From Rod A To Rod B\n",
      "Move disk 2 From Rod A To Rod C\n",
      "Move disk 1 From Rod B To Rod C\n",
      "Move disk 3 From Rod A To Rod B\n",
      "Move disk 1 From Rod C To Rod A\n",
      "Move disk 2 From Rod C To Rod B\n",
      "Move disk 1 From Rod A To Rod B\n",
      "Move disk 4 From Rod A To Rod C\n",
      "Move disk 1 From Rod B To Rod C\n",
      "Move disk 2 From Rod B To Rod A\n",
      "Move disk 1 From Rod C To Rod A\n",
      "Move disk 3 From Rod B To Rod C\n",
      "Move disk 1 From Rod A To Rod B\n",
      "Move disk 2 From Rod A To Rod C\n",
      "Move disk 1 From Rod B To Rod C\n"
     ]
    }
   ],
   "source": [
    "def towerofhonoi(n,from_rod,to_rod,aux_rod):\n",
    "    if n == 0:\n",
    "        return\n",
    "    towerofhonoi(n-1,from_rod,aux_rod,to_rod)\n",
    "    print(\"Move disk\",n,\"From Rod\",from_rod,\"To Rod\",to_rod)\n",
    "    towerofhonoi(n-1,aux_rod,to_rod,from_rod)\n",
    "n = 4\n",
    "towerofhonoi(4,\"A\",\"C\",\"B\")"
   ]
  },
  {
   "cell_type": "markdown",
   "id": "53ec1e8d",
   "metadata": {},
   "source": [
    "Q6. Read about infix, prefix, and postfix expressions. Write a program to convert postfix to prefix expression."
   ]
  },
  {
   "cell_type": "code",
   "execution_count": 7,
   "id": "dcf020f6",
   "metadata": {},
   "outputs": [
    {
     "name": "stdout",
     "output_type": "stream",
     "text": [
      "Prefix :  +AB-CD\n"
     ]
    }
   ],
   "source": [
    "def Operator(x):\n",
    " \n",
    "    if x == \"+\":\n",
    "        return True\n",
    " \n",
    "    if x == \"-\":\n",
    "        return True\n",
    " \n",
    "    if x == \"/\":\n",
    "        return True\n",
    " \n",
    "    if x == \"*\":\n",
    "        return True\n",
    " \n",
    "    return False\n",
    " \n",
    "# Convert postfix to Prefix expression\n",
    " \n",
    " \n",
    "def postToPre(post_exp):\n",
    " \n",
    "    s = []\n",
    " \n",
    "    length = len(post_exp)\n",
    " \n",
    "    for i in range(length):\n",
    " \n",
    "        if (Operator(post_exp[i])):\n",
    " \n",
    "            op1 = s[-1]\n",
    "            s.pop()\n",
    "            op2 = s[-1]\n",
    "            s.pop()\n",
    " \n",
    "            temp = post_exp[i] + op2 + op1\n",
    " \n",
    "            s.append(temp)\n",
    "        else:\n",
    "            s.append(post_exp[i])\n",
    "    ans = \"\"\n",
    "    for i in s:\n",
    "        ans += i\n",
    "    return ans\n",
    "\n",
    "post_exp = \"AB+CD-\"\n",
    "print(\"Prefix : \", postToPre(post_exp))"
   ]
  },
  {
   "cell_type": "markdown",
   "id": "4434d77b",
   "metadata": {},
   "source": [
    "Q7. Write a program to convert prefix expression to infix expression."
   ]
  },
  {
   "cell_type": "code",
   "execution_count": 8,
   "id": "5db2099e",
   "metadata": {},
   "outputs": [
    {
     "name": "stdout",
     "output_type": "stream",
     "text": [
      "Infix :  ((A-(B/C))*((A/K)-L))\n"
     ]
    }
   ],
   "source": [
    "def Operator(x):\n",
    " \n",
    "    if x == \"+\":\n",
    "        return True\n",
    " \n",
    "    if x == \"-\":\n",
    "        return True\n",
    " \n",
    "    if x == \"/\":\n",
    "        return True\n",
    " \n",
    "    if x == \"*\":\n",
    "        return True\n",
    " \n",
    "    return False\n",
    "\n",
    "def prefixToInfix(prefix):\n",
    "    stack = []\n",
    "     \n",
    "    \n",
    "    i = len(prefix) - 1\n",
    "    while i >= 0:\n",
    "        if not Operator(prefix[i]):\n",
    "            \n",
    "            stack.append(prefix[i])\n",
    "            i -= 1\n",
    "        else:\n",
    "            str = \"(\" + stack.pop() + prefix[i] + stack.pop() + \")\"\n",
    "            stack.append(str)\n",
    "            i -= 1\n",
    "     \n",
    "    return stack.pop()\n",
    "str = \"*-A/BC-/AKL\"\n",
    "print(\"Infix : \",prefixToInfix(str))"
   ]
  },
  {
   "cell_type": "markdown",
   "id": "659c5060",
   "metadata": {},
   "source": [
    "Q8. Write a program to check if all the brackets are closed in a given code snippet."
   ]
  },
  {
   "cell_type": "code",
   "execution_count": 9,
   "id": "b572880a",
   "metadata": {},
   "outputs": [
    {
     "name": "stdout",
     "output_type": "stream",
     "text": [
      "Closed\n"
     ]
    }
   ],
   "source": [
    "def areBracketsClosed(expr):\n",
    "    stack = []\n",
    "    for char in expr:\n",
    "        if char in [\"(\", \"{\", \"[\" ]:\n",
    "            stack.append(char)\n",
    "        else:\n",
    "            if not stack:\n",
    "                return False\n",
    "            current_char = stack.pop()\n",
    "            if current_char == '(':\n",
    "                if char != \")\":\n",
    "                    return False\n",
    "            if current_char == '{':\n",
    "                if char != \"}\":\n",
    "                    return False\n",
    "            if current_char == '[':\n",
    "                if char != \"]\":\n",
    "                    return False\n",
    "    if stack:\n",
    "        return False\n",
    "    return True\n",
    " \n",
    "expr = \"{()}[]\"\n",
    "if areBracketsClosed(expr):\n",
    "    print(\"Closed\")\n",
    "else:\n",
    "    print(\"Not Closed\")"
   ]
  },
  {
   "cell_type": "markdown",
   "id": "163915a8",
   "metadata": {},
   "source": [
    "Q9. Write a program to reverse a stack."
   ]
  },
  {
   "cell_type": "code",
   "execution_count": 10,
   "id": "30d01f36",
   "metadata": {},
   "outputs": [
    {
     "name": "stdout",
     "output_type": "stream",
     "text": [
      "olleH\n"
     ]
    }
   ],
   "source": [
    "class Stack():\n",
    "    def __init__(self):\n",
    "        self.items = []\n",
    "\n",
    "    def push(self, item):\n",
    "        self.items.append(item)\n",
    "\n",
    "    def pop(self):\n",
    "        return self.items.pop()\n",
    "\n",
    "    def is_empty(self):\n",
    "        return self.items == []\n",
    "\n",
    "    def peek(self):\n",
    "        if not self.is_empty():\n",
    "            return self.items[-1]\n",
    "\n",
    "    def get_stack(self):\n",
    "        return self.items\n",
    "\n",
    "\n",
    "def reverse_string(stack, input_str):\n",
    "    \n",
    "    for i in range(len(input_str)):\n",
    "        stack.push(input_str[i])\n",
    "\n",
    "    rev_str = \"\"\n",
    "    while not stack.is_empty():\n",
    "        rev_str += stack.pop()\n",
    "\n",
    "    return rev_str\n",
    "\n",
    "\n",
    "stack = Stack()    \n",
    "input_str = \"Hello\"\n",
    "\n",
    "print(reverse_string(stack, input_str))"
   ]
  },
  {
   "cell_type": "markdown",
   "id": "993ab59a",
   "metadata": {},
   "source": [
    "Q10. Write a program to find the smallest number using a stack."
   ]
  },
  {
   "cell_type": "code",
   "execution_count": 2,
   "id": "5de4e4c9",
   "metadata": {},
   "outputs": [
    {
     "name": "stdout",
     "output_type": "stream",
     "text": [
      "NUmber Inserted: 3\n",
      "NUmber Inserted: 5\n",
      "Minimum Element in the stack is 3\n",
      "NUmber Inserted: 2\n",
      "NUmber Inserted: 1\n",
      "Minimum Element in the stack is 1\n",
      "NUmber Inserted: 2\n",
      "NUmber Inserted: 7\n",
      "Minimum Element in the stack is 1\n"
     ]
    }
   ],
   "source": [
    "class Node:\n",
    "    def __init__(self,value):\n",
    "        self.value = value\n",
    "        self.next = None\n",
    "        \n",
    "    def __str__(self):\n",
    "        return \"Node({})\".format(self.value)\n",
    "    \n",
    "class Stack:\n",
    "    def __init__(self):\n",
    "        self.top = None\n",
    "        self.count = 0\n",
    "        self.minimum = None\n",
    "        \n",
    "    def __str__(self):\n",
    "        temp = self.top\n",
    "        out = []\n",
    "        while temp:\n",
    "            out.append(str(temp.value))\n",
    "            temp = temp.next\n",
    "        out = '\\n'.join(out)\n",
    "        return ('top {} \\n\\nStack :\\n{}'.format(self.top,out))\n",
    "    \n",
    "    def getMin(self):\n",
    "        if self.top is None:\n",
    "            return \"Stack is empty\"\n",
    "        else:\n",
    "            print(\"Minimum Element in the stack is {}\".format(self.minimum))\n",
    "            \n",
    "    def isEmpty(self):\n",
    "        if self.top == None:\n",
    "            return True\n",
    "        else:\n",
    "            return False\n",
    "        \n",
    "    def __len__(self):\n",
    "        self.count = 0\n",
    "        tempNode = self.top\n",
    "        while tempNode:\n",
    "            tempNode = tempNode.next\n",
    "            self.count+=1\n",
    "        return self.count\n",
    "    \n",
    "    \n",
    "    def push(self,value):\n",
    "        if self.top is None:\n",
    "            self.top = Node(value)\n",
    "            self.minimum = value\n",
    "            \n",
    "        elif value < self.minimum:\n",
    "            temp = (2* value) - self.minimum\n",
    "            new_node = Node(temp)\n",
    "            new_node.next = self.top\n",
    "            self.minimum = value\n",
    "        \n",
    "        else:\n",
    "            new_node = Node(value)\n",
    "            new_node.next = self.top\n",
    "            self.top = new_node\n",
    "        print(\"NUmber Inserted: {}\".format(value))    \n",
    "    \n",
    "    \n",
    "\n",
    "stack = Stack()\n",
    "\n",
    "stack.push(3)\n",
    "stack.push(5)\n",
    "stack.getMin()\n",
    "stack.push(2)\n",
    "stack.push(1)\n",
    "stack.getMin()            \n",
    "stack.push(2)\n",
    "stack.push(7)\n",
    "stack.getMin()"
   ]
  }
 ],
 "metadata": {
  "kernelspec": {
   "display_name": "Python 3 (ipykernel)",
   "language": "python",
   "name": "python3"
  },
  "language_info": {
   "codemirror_mode": {
    "name": "ipython",
    "version": 3
   },
   "file_extension": ".py",
   "mimetype": "text/x-python",
   "name": "python",
   "nbconvert_exporter": "python",
   "pygments_lexer": "ipython3",
   "version": "3.10.3"
  }
 },
 "nbformat": 4,
 "nbformat_minor": 5
}
